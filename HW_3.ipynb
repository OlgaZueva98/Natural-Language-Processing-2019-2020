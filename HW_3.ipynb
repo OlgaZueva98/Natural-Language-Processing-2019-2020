{
  "nbformat": 4,
  "nbformat_minor": 0,
  "metadata": {
    "colab": {
      "name": "Word Sense Disambiguation.ipynb",
      "provenance": [],
      "collapsed_sections": [],
      "toc_visible": true
    },
    "kernelspec": {
      "name": "python3",
      "display_name": "Python 3"
    }
  },
  "cells": [
    {
      "cell_type": "markdown",
      "metadata": {
        "id": "-joDIJj4ypHm",
        "colab_type": "text"
      },
      "source": [
        "# 1. Значения лексемы \"свет\" по МАС"
      ]
    },
    {
      "cell_type": "markdown",
      "metadata": {
        "id": "YNj9TKARygTi",
        "colab_type": "text"
      },
      "source": [
        "**Свет 1:**\n",
        "- Электромагнитное излучение, воспринимаемое глазом и делающее видимым окружающий мир. Солнечный свет. Свет луны. Свет свечи. Луч света. Скорость света. Преломление света. Свет и тьма. Слабым светом горит ночник. Григорович, Гуттаперчевый мальчик. Алый свет вечерней зари медленно скользит по корням и стволам деревьев. Тургенев, Ермолай и мельничиха.\n",
        "- Освещение, характерное для какой-л. части суток. Дневной свет. Синими переливами играл утренний свет. Шолохов, Тихий Дон. На улицах был еще неопределенный, рассеянный свет белых ночей. Каверин, Открытая книга. || Разг. Рассвет, восход солнца. Еще семь часов до света! Тогда эта черная, полная мокрого снега ночь уйдет и даст место серому дню. Гаршин, Очень коротенький роман. Как и в прошлую ночь, едва забрезжил свет, она уже проснулась. Чехов, Невеста. \n",
        "- Источник освещения и приспособление для освещения в домах и на улицах. Зажечь в комнате свет. Выключить свет. Она погасила верхний свет, оставив гореть в углу синюю настольную лампу. Казакевич, Дом на площади. \n",
        "- Место, откуда исходит освещение, освещенное место, пространство, где светло. Встать спиной к свету. — У вас, Анна Федоровна, нервы расстроены, я вам пропишу немножко лавровишневой воды, на свет не ставьте — она портится. Герцен, Доктор Крупов. Доктор взял ребенка на руки, быстро повернул к свету и заглянул в глаза. Короленко, Слепой музыкант. \n",
        "- Светлое место, пятно на картине, передающее наибольшую освещенность какого-л. участка изображаемого пространства. Контрасты света и тени. □ Ваша картина, в тонах на земле — безукоризненна, только вода чуть-чуть светла, и небо тоже хорошо, исключая самого верхнего облака, большого пятна света. Крамской, Письмо Ф. А. Васильеву, 22 февр. 1872. \n",
        "- Блеск глаз под влиянием какого-л. чувства, радостное, ясное выражение лица. Все лицо его светилось тогда каким-то внутренним светом. Короленко, С двух сторон. У профессора вспыхнули глаза злым светом. А. Н. Толстой, Необычайные приключения на волжском пароходе. \n",
        "- То, что делает ясным, понятным мир, то, что делает радостной, счастливой жизнь. Свет истины. [Андрей Иванович] стал говорить о свете знания, о святости труда, о широком и дружном товариществе. Вересаев, Два конца. [Богомолов] Когда человек чувствует, что его любят, — как расцветает его душа в свете любви! Влюбленные и любящие всегда талантливы. М. Горький, [Яков Богомолов]. || Употребляется как символ истины, разума, просвещения или радости, счастья. Доля народа, Счастье его, Свет и свобода Прежде всего! Н. Некрасов, Кому на Руси жить хорошо. Веками шел русский народ из нищеты к своему счастливому дню, веками боролся за каждый свой шаг к свету. Тихонов, Ленинград принимает бой. [Распер:] За что мне послана такая жизнь — ни света, ни радости. А. Н. Толстой, Делец. \n",
        "- Народно-поэт. Ласковое, приветливое обращение к кому-л. — Свет ты мой! послушай меня, старика: напиши этому разбойнику, что ты пошутил. Пушкин, Капитанская дочка. — Что ты, свет, что ты, сударь, Григорий Иваныч? — посмеиваясь и поеживаясь, говорила бабушка. — Куда уж мне плясать. М. Горький, Детство. \n",
        "\n",
        "\n",
        "**Свет 2:**\n",
        "- Земля со всем существующим на ней, мир 1, вселенная. Части света. Путешествие вокруг света. — Я в России живу двадцать восемь лет, и все с народом... И знаю, что лучше этого народа никакого народа на свете нет! Гл. Успенский, Письма с дороги. Мигающий огонек горел на мысе Крильон, самом южном советском мысе в этой стороне света. Чаковский, У нас уже утро. \n",
        "- Окружающие люди, общество. И сердце бросил в море жизни шумной, И свет не пощадил — и бог не спас! Лермонтов, Памяти А. И. Одоевского. [Ане] казалось, что весь свет видит ее дешевую шляпку и дырочки на ботинках. Чехов, Анна на шее. \n",
        "- Ограниченный круг людей, составляющий высший слой привилегированных классов буржуазно-дворянского общества. Большой свет. Бывать в свете. Положение в свете. [Аянова] трудно было бы представить себе где-нибудь в другом городе, кроме Петербурга, и в другой сфере, кроме света, то есть известного высшего слоя петербургского населения. И. Гончаров, Обрыв. [Турченко] очень редко покалывался в уездном свете. Куприн, Черная молния. \n",
        "\n",
        "\n",
        "---\n",
        "\n",
        "**Диагностические слова:**\n",
        "\n",
        " 1. Свет - зажечь/вспыхнуть/мой\n",
        " \n",
        " 2. Свет - путешествие/часть/белый/конец/высший\n",
        "\n",
        "\n",
        "\n",
        "\n"
      ]
    },
    {
      "cell_type": "code",
      "metadata": {
        "id": "d90U3A0188EL",
        "colab_type": "code",
        "colab": {
          "base_uri": "https://localhost:8080/",
          "height": 275
        },
        "outputId": "7a0e6094-3ae4-45a8-db28-3aef9630ba20"
      },
      "source": [
        "!pip install git+https://github.com/lopuhin/python-adagram.git"
      ],
      "execution_count": 3,
      "outputs": [
        {
          "output_type": "stream",
          "text": [
            "Collecting git+https://github.com/lopuhin/python-adagram.git\n",
            "  Cloning https://github.com/lopuhin/python-adagram.git to /tmp/pip-req-build-l91w4hwc\n",
            "  Running command git clone -q https://github.com/lopuhin/python-adagram.git /tmp/pip-req-build-l91w4hwc\n",
            "Requirement already satisfied: cython in /usr/local/lib/python3.6/dist-packages (from adagram==0.0.1) (0.29.14)\n",
            "Requirement already satisfied: joblib in /usr/local/lib/python3.6/dist-packages (from adagram==0.0.1) (0.14.0)\n",
            "Requirement already satisfied: numpy>=1.9 in /usr/local/lib/python3.6/dist-packages (from adagram==0.0.1) (1.17.4)\n",
            "Requirement already satisfied: six in /usr/local/lib/python3.6/dist-packages (from adagram==0.0.1) (1.12.0)\n",
            "Building wheels for collected packages: adagram\n",
            "  Building wheel for adagram (setup.py) ... \u001b[?25l\u001b[?25hdone\n",
            "  Created wheel for adagram: filename=adagram-0.0.1-cp36-cp36m-linux_x86_64.whl size=464606 sha256=1050e59c8bc65ab18f1d0d9856ed6bd90ab500758a17a18d869644741e399f03\n",
            "  Stored in directory: /tmp/pip-ephem-wheel-cache-s07tupyy/wheels/11/0f/46/f5df96670df8f7973b4c2311ffc9b02e435a7bd3207f992c4d\n",
            "Successfully built adagram\n",
            "Installing collected packages: adagram\n",
            "Successfully installed adagram-0.0.1\n"
          ],
          "name": "stdout"
        }
      ]
    },
    {
      "cell_type": "code",
      "metadata": {
        "id": "J0sLsQNt90sU",
        "colab_type": "code",
        "colab": {
          "base_uri": "https://localhost:8080/",
          "height": 224
        },
        "outputId": "25c32fee-baec-4af4-9021-908df33df9fb"
      },
      "source": [
        "!pip install pymorphy2"
      ],
      "execution_count": 5,
      "outputs": [
        {
          "output_type": "stream",
          "text": [
            "Collecting pymorphy2\n",
            "\u001b[?25l  Downloading https://files.pythonhosted.org/packages/a3/33/fff9675c68b5f6c63ec8c6e6ff57827dda28a1fa5b2c2d727dffff92dd47/pymorphy2-0.8-py2.py3-none-any.whl (46kB)\n",
            "\r\u001b[K     |███████                         | 10kB 17.2MB/s eta 0:00:01\r\u001b[K     |██████████████▏                 | 20kB 1.7MB/s eta 0:00:01\r\u001b[K     |█████████████████████▎          | 30kB 2.6MB/s eta 0:00:01\r\u001b[K     |████████████████████████████▍   | 40kB 1.7MB/s eta 0:00:01\r\u001b[K     |████████████████████████████████| 51kB 1.6MB/s \n",
            "\u001b[?25hRequirement already satisfied: docopt>=0.6 in /usr/local/lib/python3.6/dist-packages (from pymorphy2) (0.6.2)\n",
            "Collecting dawg-python>=0.7\n",
            "  Downloading https://files.pythonhosted.org/packages/6a/84/ff1ce2071d4c650ec85745766c0047ccc3b5036f1d03559fd46bb38b5eeb/DAWG_Python-0.7.2-py2.py3-none-any.whl\n",
            "Collecting pymorphy2-dicts<3.0,>=2.4\n",
            "\u001b[?25l  Downloading https://files.pythonhosted.org/packages/02/51/2465fd4f72328ab50877b54777764d928da8cb15b74e2680fc1bd8cb3173/pymorphy2_dicts-2.4.393442.3710985-py2.py3-none-any.whl (7.1MB)\n",
            "\u001b[K     |████████████████████████████████| 7.1MB 7.8MB/s \n",
            "\u001b[?25hInstalling collected packages: dawg-python, pymorphy2-dicts, pymorphy2\n",
            "Successfully installed dawg-python-0.7.2 pymorphy2-0.8 pymorphy2-dicts-2.4.393442.3710985\n"
          ],
          "name": "stdout"
        }
      ]
    },
    {
      "cell_type": "code",
      "metadata": {
        "id": "QBCDw6Hj-JKz",
        "colab_type": "code",
        "colab": {
          "base_uri": "https://localhost:8080/",
          "height": 34
        },
        "outputId": "8b635486-3267-49cc-c46c-0e1a17472c2f"
      },
      "source": [
        "!pip install tqdm"
      ],
      "execution_count": 8,
      "outputs": [
        {
          "output_type": "stream",
          "text": [
            "Requirement already satisfied: tqdm in /usr/local/lib/python3.6/dist-packages (4.28.1)\n"
          ],
          "name": "stdout"
        }
      ]
    },
    {
      "cell_type": "code",
      "metadata": {
        "id": "ffJ0cln481ol",
        "colab_type": "code",
        "colab": {
          "base_uri": "https://localhost:8080/",
          "height": 51
        },
        "outputId": "f518add2-b8cd-4c05-ab1c-8f231977d596"
      },
      "source": [
        "import adagram\n",
        "import pandas as pd\n",
        "from lxml import html\n",
        "from nltk.tokenize import RegexpTokenizer\n",
        "from nltk.corpus import stopwords\n",
        "from pymorphy2 import MorphAnalyzer\n",
        "#from pymystem3 import Mystem\n",
        "import tqdm\n",
        "from sklearn.metrics import adjusted_rand_score\n",
        "from sklearn.decomposition import PCA\n",
        "from sklearn.cluster import *\n",
        "from collections import Counter\n",
        "import numpy as np\n",
        "from matplotlib import pyplot as plt\n",
        "import nltk\n",
        "nltk.download('stopwords')\n",
        "\n",
        "%matplotlib inline\n",
        "import warnings\n",
        "warnings.filterwarnings('ignore')\n",
        "\n",
        "\n",
        "morph = MorphAnalyzer()\n",
        "token = RegexpTokenizer('\\w+')\n",
        "stops = set(stopwords.words('russian'))"
      ],
      "execution_count": 1,
      "outputs": [
        {
          "output_type": "stream",
          "text": [
            "[nltk_data] Downloading package stopwords to /root/nltk_data...\n",
            "[nltk_data]   Package stopwords is already up-to-date!\n"
          ],
          "name": "stdout"
        }
      ]
    },
    {
      "cell_type": "code",
      "metadata": {
        "id": "dWgjWbzv_Imr",
        "colab_type": "code",
        "colab": {
          "base_uri": "https://localhost:8080/",
          "height": 204
        },
        "outputId": "a3d12d7d-e1fb-461e-fb42-08fb73cf7034"
      },
      "source": [
        "!wget 'https://s3.amazonaws.com/kostia.lopuhin/all.a010.p10.d300.w5.m100.nonorm.slim.joblib'"
      ],
      "execution_count": 14,
      "outputs": [
        {
          "output_type": "stream",
          "text": [
            "--2019-12-08 19:29:04--  https://s3.amazonaws.com/kostia.lopuhin/all.a010.p10.d300.w5.m100.nonorm.slim.joblib\n",
            "Resolving s3.amazonaws.com (s3.amazonaws.com)... 52.216.233.109\n",
            "Connecting to s3.amazonaws.com (s3.amazonaws.com)|52.216.233.109|:443... connected.\n",
            "HTTP request sent, awaiting response... 200 OK\n",
            "Length: 1462416741 (1.4G) [application/x-www-form-urlencoded]\n",
            "Saving to: ‘all.a010.p10.d300.w5.m100.nonorm.slim.joblib’\n",
            "\n",
            "all.a010.p10.d300.w 100%[===================>]   1.36G  78.0MB/s    in 18s     \n",
            "\n",
            "2019-12-08 19:29:22 (78.2 MB/s) - ‘all.a010.p10.d300.w5.m100.nonorm.slim.joblib’ saved [1462416741/1462416741]\n",
            "\n"
          ],
          "name": "stdout"
        }
      ]
    },
    {
      "cell_type": "code",
      "metadata": {
        "id": "aYLDWD8nNq1b",
        "colab_type": "code",
        "colab": {}
      },
      "source": [
        "with open('texts.txt', 'r', encoding='utf-8') as f:\n",
        "  text = f.read()"
      ],
      "execution_count": 0,
      "outputs": []
    },
    {
      "cell_type": "code",
      "metadata": {
        "id": "ynjojPjnQU3q",
        "colab_type": "code",
        "colab": {}
      },
      "source": [
        "senses = [int(s) for s in text.split() if s.isdigit()]"
      ],
      "execution_count": 0,
      "outputs": []
    },
    {
      "cell_type": "code",
      "metadata": {
        "id": "gbZOzsM7QhSs",
        "colab_type": "code",
        "colab": {}
      },
      "source": [
        "texts = [str(s) for s in text.split('\\n') if not s.isdigit()]"
      ],
      "execution_count": 0,
      "outputs": []
    },
    {
      "cell_type": "code",
      "metadata": {
        "id": "KrcxVxpuSV7j",
        "colab_type": "code",
        "colab": {
          "base_uri": "https://localhost:8080/",
          "height": 34
        },
        "outputId": "4e5745a5-c7b5-4a6b-9cab-eaeb5c8924d9"
      },
      "source": [
        "texts.pop(0)"
      ],
      "execution_count": 43,
      "outputs": [
        {
          "output_type": "execute_result",
          "data": {
            "text/plain": [
              "'\\ufeff'"
            ]
          },
          "metadata": {
            "tags": []
          },
          "execution_count": 43
        }
      ]
    },
    {
      "cell_type": "code",
      "metadata": {
        "id": "Mn0go9bvSrr3",
        "colab_type": "code",
        "colab": {}
      },
      "source": [
        "df = pd.DataFrame(columns=['Senses', 'Texts'])"
      ],
      "execution_count": 0,
      "outputs": []
    },
    {
      "cell_type": "code",
      "metadata": {
        "id": "Ukxim_VmS7Fi",
        "colab_type": "code",
        "colab": {}
      },
      "source": [
        "df['Senses'] = senses\n",
        "df['Texts'] = texts"
      ],
      "execution_count": 0,
      "outputs": []
    },
    {
      "cell_type": "code",
      "metadata": {
        "id": "MKUljb4pLrH9",
        "colab_type": "code",
        "colab": {
          "base_uri": "https://localhost:8080/",
          "height": 204
        },
        "outputId": "dfc990ae-92ef-4ff9-8bbc-75e3d058b8fe"
      },
      "source": [
        "df.head()"
      ],
      "execution_count": 46,
      "outputs": [
        {
          "output_type": "execute_result",
          "data": {
            "text/html": [
              "<div>\n",
              "<style scoped>\n",
              "    .dataframe tbody tr th:only-of-type {\n",
              "        vertical-align: middle;\n",
              "    }\n",
              "\n",
              "    .dataframe tbody tr th {\n",
              "        vertical-align: top;\n",
              "    }\n",
              "\n",
              "    .dataframe thead th {\n",
              "        text-align: right;\n",
              "    }\n",
              "</style>\n",
              "<table border=\"1\" class=\"dataframe\">\n",
              "  <thead>\n",
              "    <tr style=\"text-align: right;\">\n",
              "      <th></th>\n",
              "      <th>Senses</th>\n",
              "      <th>Texts</th>\n",
              "    </tr>\n",
              "  </thead>\n",
              "  <tbody>\n",
              "    <tr>\n",
              "      <th>0</th>\n",
              "      <td>1</td>\n",
              "      <td>На этом небе меня поразили светло-изумрудные, ...</td>\n",
              "    </tr>\n",
              "    <tr>\n",
              "      <th>1</th>\n",
              "      <td>1</td>\n",
              "      <td>Вдруг под матовым абажуром вспыхнул свет, офиц...</td>\n",
              "    </tr>\n",
              "    <tr>\n",
              "      <th>2</th>\n",
              "      <td>1</td>\n",
              "      <td>Охонюшка, милая… да тебя ли я вижу, свет мой я...</td>\n",
              "    </tr>\n",
              "    <tr>\n",
              "      <th>3</th>\n",
              "      <td>1</td>\n",
              "      <td>Вспомним размышления Бориса после смерти отца ...</td>\n",
              "    </tr>\n",
              "    <tr>\n",
              "      <th>4</th>\n",
              "      <td>2</td>\n",
              "      <td>Писатель должен быть баснословно богат, так бо...</td>\n",
              "    </tr>\n",
              "  </tbody>\n",
              "</table>\n",
              "</div>"
            ],
            "text/plain": [
              "   Senses                                              Texts\n",
              "0       1  На этом небе меня поразили светло-изумрудные, ...\n",
              "1       1  Вдруг под матовым абажуром вспыхнул свет, офиц...\n",
              "2       1  Охонюшка, милая… да тебя ли я вижу, свет мой я...\n",
              "3       1  Вспомним размышления Бориса после смерти отца ...\n",
              "4       2  Писатель должен быть баснословно богат, так бо..."
            ]
          },
          "metadata": {
            "tags": []
          },
          "execution_count": 46
        }
      ]
    },
    {
      "cell_type": "markdown",
      "metadata": {
        "id": "NStiTkJzUC8Q",
        "colab_type": "text"
      },
      "source": [
        "# AdaGram"
      ]
    },
    {
      "cell_type": "code",
      "metadata": {
        "id": "8aMoVBTBd_bP",
        "colab_type": "code",
        "colab": {}
      },
      "source": [
        "import re"
      ],
      "execution_count": 0,
      "outputs": []
    },
    {
      "cell_type": "code",
      "metadata": {
        "id": "RRbWBP8vZlfX",
        "colab_type": "code",
        "colab": {
          "base_uri": "https://localhost:8080/",
          "height": 326
        },
        "outputId": "c85d0beb-92f6-42d6-e7a3-93c10b15382b"
      },
      "source": [
        "#!pip install pymystem3==0.1.10"
      ],
      "execution_count": 84,
      "outputs": [
        {
          "output_type": "stream",
          "text": [
            "Collecting pymystem3==0.1.10\n",
            "  Downloading https://files.pythonhosted.org/packages/51/56/57e550b53587719e92330a79c7c0f555402d953b00700efae6d5ca53cdef/pymystem3-0.1.10-py3-none-any.whl\n",
            "Requirement already satisfied: requests in /usr/local/lib/python3.6/dist-packages (from pymystem3==0.1.10) (2.21.0)\n",
            "Requirement already satisfied: chardet<3.1.0,>=3.0.2 in /usr/local/lib/python3.6/dist-packages (from requests->pymystem3==0.1.10) (3.0.4)\n",
            "Requirement already satisfied: urllib3<1.25,>=1.21.1 in /usr/local/lib/python3.6/dist-packages (from requests->pymystem3==0.1.10) (1.24.3)\n",
            "Requirement already satisfied: certifi>=2017.4.17 in /usr/local/lib/python3.6/dist-packages (from requests->pymystem3==0.1.10) (2019.11.28)\n",
            "Requirement already satisfied: idna<2.9,>=2.5 in /usr/local/lib/python3.6/dist-packages (from requests->pymystem3==0.1.10) (2.8)\n",
            "Installing collected packages: pymystem3\n",
            "  Found existing installation: pymystem3 0.2.0\n",
            "    Uninstalling pymystem3-0.2.0:\n",
            "      Successfully uninstalled pymystem3-0.2.0\n",
            "Successfully installed pymystem3-0.1.10\n"
          ],
          "name": "stdout"
        },
        {
          "output_type": "display_data",
          "data": {
            "application/vnd.colab-display-data+json": {
              "pip_warning": {
                "packages": [
                  "pymystem3"
                ]
              }
            }
          },
          "metadata": {
            "tags": []
          }
        }
      ]
    },
    {
      "cell_type": "code",
      "metadata": {
        "id": "awxRepw4-kWr",
        "colab_type": "code",
        "colab": {}
      },
      "source": [
        "vm = adagram.VectorModel.load('all.a010.p10.d300.w5.m100.nonorm.slim.joblib')"
      ],
      "execution_count": 0,
      "outputs": []
    },
    {
      "cell_type": "code",
      "metadata": {
        "id": "M90eAzaOqqKG",
        "colab_type": "code",
        "colab": {}
      },
      "source": [
        "def normalize_pm(text):\n",
        "    words = [morph.parse(word)[0].normal_form for word in tokenize(text) if word]\n",
        "    return words\n",
        "\n",
        "def tokenize(text):\n",
        "    return token.tokenize(text)"
      ],
      "execution_count": 0,
      "outputs": []
    },
    {
      "cell_type": "code",
      "metadata": {
        "id": "XmzdXRFsT2EO",
        "colab_type": "code",
        "colab": {}
      },
      "source": [
        "def disambiguate(model, word, context):\n",
        "    probs = model.disambiguate(word, normalize_pm(context))\n",
        "    return 1 + probs.argmax()"
      ],
      "execution_count": 0,
      "outputs": []
    },
    {
      "cell_type": "code",
      "metadata": {
        "id": "mIkPt9MdVxo6",
        "colab_type": "code",
        "colab": {}
      },
      "source": [
        "pred_senses = [disambiguate(vm, 'свет', context) for context in texts]"
      ],
      "execution_count": 0,
      "outputs": []
    },
    {
      "cell_type": "code",
      "metadata": {
        "id": "5bcKqvj9cGIC",
        "colab_type": "code",
        "colab": {
          "base_uri": "https://localhost:8080/",
          "height": 34
        },
        "outputId": "4fa23e13-ebaa-4bd4-b245-cf1d260a075b"
      },
      "source": [
        "pred_senses"
      ],
      "execution_count": 48,
      "outputs": [
        {
          "output_type": "execute_result",
          "data": {
            "text/plain": [
              "[6, 2, 6, 5, 4, 2, 3, 3, 1]"
            ]
          },
          "metadata": {
            "tags": []
          },
          "execution_count": 48
        }
      ]
    },
    {
      "cell_type": "code",
      "metadata": {
        "id": "RIe_RObRrHB7",
        "colab_type": "code",
        "colab": {}
      },
      "source": [
        "df['Predicted'] = pred_senses"
      ],
      "execution_count": 0,
      "outputs": []
    },
    {
      "cell_type": "code",
      "metadata": {
        "id": "YEY98dgArSf5",
        "colab_type": "code",
        "colab": {
          "base_uri": "https://localhost:8080/",
          "height": 328
        },
        "outputId": "292360e0-a00f-4eee-f4d5-57bf89142707"
      },
      "source": [
        "df"
      ],
      "execution_count": 50,
      "outputs": [
        {
          "output_type": "execute_result",
          "data": {
            "text/html": [
              "<div>\n",
              "<style scoped>\n",
              "    .dataframe tbody tr th:only-of-type {\n",
              "        vertical-align: middle;\n",
              "    }\n",
              "\n",
              "    .dataframe tbody tr th {\n",
              "        vertical-align: top;\n",
              "    }\n",
              "\n",
              "    .dataframe thead th {\n",
              "        text-align: right;\n",
              "    }\n",
              "</style>\n",
              "<table border=\"1\" class=\"dataframe\">\n",
              "  <thead>\n",
              "    <tr style=\"text-align: right;\">\n",
              "      <th></th>\n",
              "      <th>Senses</th>\n",
              "      <th>Texts</th>\n",
              "      <th>Predicted</th>\n",
              "    </tr>\n",
              "  </thead>\n",
              "  <tbody>\n",
              "    <tr>\n",
              "      <th>0</th>\n",
              "      <td>1</td>\n",
              "      <td>На этом небе меня поразили светло-изумрудные, ...</td>\n",
              "      <td>6</td>\n",
              "    </tr>\n",
              "    <tr>\n",
              "      <th>1</th>\n",
              "      <td>1</td>\n",
              "      <td>Вдруг под матовым абажуром вспыхнул свет, офиц...</td>\n",
              "      <td>2</td>\n",
              "    </tr>\n",
              "    <tr>\n",
              "      <th>2</th>\n",
              "      <td>1</td>\n",
              "      <td>Охонюшка, милая… да тебя ли я вижу, свет мой я...</td>\n",
              "      <td>6</td>\n",
              "    </tr>\n",
              "    <tr>\n",
              "      <th>3</th>\n",
              "      <td>1</td>\n",
              "      <td>Вспомним размышления Бориса после смерти отца ...</td>\n",
              "      <td>5</td>\n",
              "    </tr>\n",
              "    <tr>\n",
              "      <th>4</th>\n",
              "      <td>2</td>\n",
              "      <td>Писатель должен быть баснословно богат, так бо...</td>\n",
              "      <td>4</td>\n",
              "    </tr>\n",
              "    <tr>\n",
              "      <th>5</th>\n",
              "      <td>2</td>\n",
              "      <td>Казалось, я оставил за собой дряхлые части све...</td>\n",
              "      <td>2</td>\n",
              "    </tr>\n",
              "    <tr>\n",
              "      <th>6</th>\n",
              "      <td>2</td>\n",
              "      <td>И все на белом свете поворачиваются друг к дру...</td>\n",
              "      <td>3</td>\n",
              "    </tr>\n",
              "    <tr>\n",
              "      <th>7</th>\n",
              "      <td>2</td>\n",
              "      <td>Лэри в наружности! Конец Света! Его там прибью...</td>\n",
              "      <td>3</td>\n",
              "    </tr>\n",
              "    <tr>\n",
              "      <th>8</th>\n",
              "      <td>2</td>\n",
              "      <td>Положение её во французском высшем свете очень...</td>\n",
              "      <td>1</td>\n",
              "    </tr>\n",
              "  </tbody>\n",
              "</table>\n",
              "</div>"
            ],
            "text/plain": [
              "   Senses                                              Texts  Predicted\n",
              "0       1  На этом небе меня поразили светло-изумрудные, ...          6\n",
              "1       1  Вдруг под матовым абажуром вспыхнул свет, офиц...          2\n",
              "2       1  Охонюшка, милая… да тебя ли я вижу, свет мой я...          6\n",
              "3       1  Вспомним размышления Бориса после смерти отца ...          5\n",
              "4       2  Писатель должен быть баснословно богат, так бо...          4\n",
              "5       2  Казалось, я оставил за собой дряхлые части све...          2\n",
              "6       2  И все на белом свете поворачиваются друг к дру...          3\n",
              "7       2  Лэри в наружности! Конец Света! Его там прибью...          3\n",
              "8       2  Положение её во французском высшем свете очень...          1"
            ]
          },
          "metadata": {
            "tags": []
          },
          "execution_count": 50
        }
      ]
    },
    {
      "cell_type": "markdown",
      "metadata": {
        "id": "31OgNzE5xSsd",
        "colab_type": "text"
      },
      "source": [
        "**Свет 1:** 1, 4, 5\n",
        "\n",
        "**Свет 2:** 2, 3"
      ]
    },
    {
      "cell_type": "code",
      "metadata": {
        "id": "mTGUaIBcuHA_",
        "colab_type": "code",
        "colab": {
          "base_uri": "https://localhost:8080/",
          "height": 119
        },
        "outputId": "0024eefc-05e1-4d6b-9e62-eb0971fce16b"
      },
      "source": [
        "for i, prob in vm.word_sense_probs('свет'):\n",
        "  i += 1\n",
        "  senses_2 = [n[0] for n in vm.sense_neighbors('свет', i)]\n",
        "  print(f'{i}: {\", \".join(senses_2)}')"
      ],
      "execution_count": 59,
      "outputs": [
        {
          "output_type": "stream",
          "text": [
            "1: сияние, бледный, отблеск, неяркий, свечение, мерцание, отсвет, тусклый, блик, блик\n",
            "2: земля, похожий, походить, мир, планета, край, диво, сцена, способный, жениться\n",
            "3: появляться, переиздание, выходить, издание, книга, сборник, трехтомник, 1869, экран, журнал\n",
            "4: сияние, сиять, озарять, тьма, луч, истина, светоч, неизреченный, вечность, лучезарный\n",
            "5: лампа, ночник, погасить, зажигать, лампа, зажигаться, освещение, лампочка, дневной, фонарь\n",
            "6: \n"
          ],
          "name": "stdout"
        }
      ]
    },
    {
      "cell_type": "markdown",
      "metadata": {
        "id": "GKgHGy-Ew9Lm",
        "colab_type": "text"
      },
      "source": [
        "# AdaGram на словарных толкованиях"
      ]
    },
    {
      "cell_type": "markdown",
      "metadata": {
        "id": "sIzVcsIV7mhO",
        "colab_type": "text"
      },
      "source": [
        "Толкование значений 1"
      ]
    },
    {
      "cell_type": "code",
      "metadata": {
        "id": "_hOERQfb78w_",
        "colab_type": "code",
        "colab": {}
      },
      "source": [
        "light_1 = ['Электромагнитное излучение, воспринимаемое глазом и делающее видимым окружающий мир. Солнечный свет. Свет луны. Свет свечи. Луч света. Скорость света. Преломление света. Свет и тьма. Слабым светом горит ночник. Григорович, Гуттаперчевый мальчик. Алый свет вечерней зари медленно скользит по корням и стволам деревьев. Тургенев, Ермолай и мельничиха.',\n",
        "           'Освещение, характерное для какой-л. части суток. Дневной свет. Синими переливами играл утренний свет. Шолохов, Тихий Дон. На улицах был еще неопределенный, рассеянный свет белых ночей. Каверин, Открытая книга. || Разг. Рассвет, восход солнца. Еще семь часов до света! Тогда эта черная, полная мокрого снега ночь уйдет и даст место серому дню. Гаршин, Очень коротенький роман. Как и в прошлую ночь, едва забрезжил свет, она уже проснулась. Чехов, Невеста.',\n",
        "           'Источник освещения и приспособление для освещения в домах и на улицах. Зажечь в комнате свет. Выключить свет. Она погасила верхний свет, оставив гореть в углу синюю настольную лампу. Казакевич, Дом на площади.',\n",
        "           'Место, откуда исходит освещение, освещенное место, пространство, где светло. Встать спиной к свету. — У вас, Анна Федоровна, нервы расстроены, я вам пропишу немножко лавровишневой воды, на свет не ставьте — она портится. Герцен, Доктор Крупов. Доктор взял ребенка на руки, быстро повернул к свету и заглянул в глаза. Короленко, Слепой музыкант.',\n",
        "           'Светлое место, пятно на картине, передающее наибольшую освещенность какого-л. участка изображаемого пространства. Контрасты света и тени. □ Ваша картина, в тонах на земле — безукоризненна, только вода чуть-чуть светла, и небо тоже хорошо, исключая самого верхнего облака, большого пятна света. Крамской, Письмо Ф. А. Васильеву, 22 февр. 1872.',\n",
        "           'Блеск глаз под влиянием какого-л. чувства, радостное, ясное выражение лица. Все лицо его светилось тогда каким-то внутренним светом. Короленко, С двух сторон. У профессора вспыхнули глаза злым светом. А. Н. Толстой, Необычайные приключения на волжском пароходе.',\n",
        "           'То, что делает ясным, понятным мир, то, что делает радостной, счастливой жизнь. Свет истины. [Андрей Иванович] стал говорить о свете знания, о святости труда, о широком и дружном товариществе. Вересаев, Два конца. [Богомолов] Когда человек чувствует, что его любят, — как расцветает его душа в свете любви! Влюбленные и любящие всегда талантливы. М. Горький, [Яков Богомолов]. || Употребляется как символ истины, разума, просвещения или радости, счастья. Доля народа, Счастье его, Свет и свобода Прежде всего! Н. Некрасов, Кому на Руси жить хорошо. Веками шел русский народ из нищеты к своему счастливому дню, веками боролся за каждый свой шаг к свету. Тихонов, Ленинград принимает бой. [Распер:] За что мне послана такая жизнь — ни света, ни радости. А. Н. Толстой, Делец.',\n",
        "           'Народно-поэт. Ласковое, приветливое обращение к кому-л. — Свет ты мой! послушай меня, старика: напиши этому разбойнику, что ты пошутил. Пушкин, Капитанская дочка. — Что ты, свет, что ты, сударь, Григорий Иваныч? — посмеиваясь и поеживаясь, говорила бабушка. — Куда уж мне плясать. М. Горький, Детство.']"
      ],
      "execution_count": 0,
      "outputs": []
    },
    {
      "cell_type": "code",
      "metadata": {
        "id": "Qq3xeAcc88hn",
        "colab_type": "code",
        "colab": {}
      },
      "source": [
        "light_2 = ['Земля со всем существующим на ней, мир 1, вселенная. Части света. Путешествие вокруг света. — Я в России живу двадцать восемь лет, и все с народом... И знаю, что лучше этого народа никакого народа на свете нет! Гл. Успенский, Письма с дороги. Мигающий огонек горел на мысе Крильон, самом южном советском мысе в этой стороне света. Чаковский, У нас уже утро.',\n",
        "           'Окружающие люди, общество. И сердце бросил в море жизни шумной, И свет не пощадил — и бог не спас! Лермонтов, Памяти А. И. Одоевского. [Ане] казалось, что весь свет видит ее дешевую шляпку и дырочки на ботинках. Чехов, Анна на шее.',\n",
        "           'Ограниченный круг людей, составляющий высший слой привилегированных классов буржуазно-дворянского общества. Большой свет. Бывать в свете. Положение в свете. [Аянова] трудно было бы представить себе где-нибудь в другом городе, кроме Петербурга, и в другой сфере, кроме света, то есть известного высшего слоя петербургского населения. И. Гончаров, Обрыв. [Турченко] очень редко покалывался в уездном свете. Куприн, Черная молния.']"
      ],
      "execution_count": 0,
      "outputs": []
    },
    {
      "cell_type": "code",
      "metadata": {
        "id": "CWeaDK3DxQum",
        "colab_type": "code",
        "colab": {}
      },
      "source": [
        "pred_light_1 = [disambiguate(vm, 'свет', context) for context in light_1]"
      ],
      "execution_count": 0,
      "outputs": []
    },
    {
      "cell_type": "code",
      "metadata": {
        "id": "b8La1Dip9alW",
        "colab_type": "code",
        "colab": {
          "base_uri": "https://localhost:8080/",
          "height": 34
        },
        "outputId": "b9edc974-5d03-4a31-afdc-2520d3d67d92"
      },
      "source": [
        "pred_light_1 "
      ],
      "execution_count": 67,
      "outputs": [
        {
          "output_type": "execute_result",
          "data": {
            "text/plain": [
              "[2, 2, 6, 6, 1, 5, 5, 3]"
            ]
          },
          "metadata": {
            "tags": []
          },
          "execution_count": 67
        }
      ]
    },
    {
      "cell_type": "markdown",
      "metadata": {
        "id": "N1Tv5jxe9gm9",
        "colab_type": "text"
      },
      "source": [
        "Толкование значений 2"
      ]
    },
    {
      "cell_type": "code",
      "metadata": {
        "id": "4zLEW-Yjx6_4",
        "colab_type": "code",
        "colab": {}
      },
      "source": [
        "pred_light_2 = [disambiguate(vm, 'свет', context) for context in light_2]"
      ],
      "execution_count": 0,
      "outputs": []
    },
    {
      "cell_type": "code",
      "metadata": {
        "id": "fwf_Imejx_Ty",
        "colab_type": "code",
        "colab": {
          "base_uri": "https://localhost:8080/",
          "height": 34
        },
        "outputId": "b8e26fd4-9f41-46f0-a828-9f7900af1feb"
      },
      "source": [
        "pred_light_2"
      ],
      "execution_count": 69,
      "outputs": [
        {
          "output_type": "execute_result",
          "data": {
            "text/plain": [
              "[4, 3, 4]"
            ]
          },
          "metadata": {
            "tags": []
          },
          "execution_count": 69
        }
      ]
    },
    {
      "cell_type": "code",
      "metadata": {
        "id": "07US-1QPyV2J",
        "colab_type": "code",
        "colab": {}
      },
      "source": [
        ""
      ],
      "execution_count": 0,
      "outputs": []
    }
  ]
}